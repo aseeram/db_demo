{
 "metadata": {
  "name": "",
  "signature": "sha256:d215d772b9b322c7d696c12a2030ffd2191c2371f6ff86b7755cad20d5ae6c26"
 },
 "nbformat": 3,
 "nbformat_minor": 0,
 "worksheets": [
  {
   "cells": [
    {
     "cell_type": "code",
     "collapsed": false,
     "input": [
      "from django import db\n",
      "from restaraunts.models import Topping, Pizza, Restaurant\n",
      "from music.models import Genre, Album\n",
      "from django.utils import timezone"
     ],
     "language": "python",
     "metadata": {},
     "outputs": []
    },
    {
     "cell_type": "heading",
     "level": 2,
     "metadata": {},
     "source": [
      "Query without `select_related`"
     ]
    },
    {
     "cell_type": "markdown",
     "metadata": {},
     "source": [
      "Note the extra queries that are run"
     ]
    },
    {
     "cell_type": "code",
     "collapsed": false,
     "input": [
      "albums2 = Album.objects.all()\n",
      "for album in albums2:\n",
      "    print album.genre.name\n",
      "print len(db.connection.queries)"
     ],
     "language": "python",
     "metadata": {},
     "outputs": []
    },
    {
     "cell_type": "heading",
     "level": 2,
     "metadata": {},
     "source": [
      "Query with `selected_related`"
     ]
    },
    {
     "cell_type": "markdown",
     "metadata": {},
     "source": [
      "One query!"
     ]
    },
    {
     "cell_type": "code",
     "collapsed": false,
     "input": [
      "db.reset_queries()\n",
      "albums = Album.objects.select_related('genre').all()\n",
      "for album in albums:\n",
      "    print album.genre.name\n",
      "print len(db.connection.queries)"
     ],
     "language": "python",
     "metadata": {},
     "outputs": []
    },
    {
     "cell_type": "heading",
     "level": 2,
     "metadata": {},
     "source": [
      "Query without prefetch_related"
     ]
    },
    {
     "cell_type": "code",
     "collapsed": false,
     "input": [
      "db.reset_queries()\n",
      "restaraunts = Restaurant.objects.all()\n",
      "for rest in restaraunts:\n",
      "    for pizza in rest.pizzas.all():\n",
      "        toppings = pizza.toppings.all()\n",
      "        print pizza.name\n",
      "        for topping in toppings:\n",
      "            print topping.name\n",
      "print len(db.connection.queries)"
     ],
     "language": "python",
     "metadata": {},
     "outputs": []
    },
    {
     "cell_type": "heading",
     "level": 2,
     "metadata": {},
     "source": [
      "Query with prefetch related"
     ]
    },
    {
     "cell_type": "code",
     "collapsed": false,
     "input": [
      "db.reset_queries()\n",
      "restaraunts = Restaurant.objects.prefetch_related('pizzas__toppings')\n",
      "for rest in restaraunts:\n",
      "    for pizza in rest.pizzas.all():\n",
      "        toppings = pizza.toppings.all()\n",
      "        print pizza.name\n",
      "        for topping in toppings:\n",
      "            print topping.name\n",
      "print len(db.connection.queries)\n",
      "    "
     ],
     "language": "python",
     "metadata": {},
     "outputs": []
    },
    {
     "cell_type": "heading",
     "level": 2,
     "metadata": {},
     "source": [
      "Query with prefetch_related for foreign key"
     ]
    },
    {
     "cell_type": "code",
     "collapsed": false,
     "input": [
      "db.reset_queries()\n",
      "restaraunts = Restaurant.objects.prefetch_related('best_pizza__toppings')\n",
      "for rest in restaraunts:\n",
      "    best_pizza = rest.best_pizza.name\n",
      "    toppings = rest.best_pizza.toppings.all()\n",
      "    for topping in toppings:\n",
      "        print topping.name\n",
      "print len(db.connection.queries)"
     ],
     "language": "python",
     "metadata": {},
     "outputs": []
    },
    {
     "cell_type": "heading",
     "level": 2,
     "metadata": {},
     "source": [
      "Query with select_related and prefetch_related"
     ]
    },
    {
     "cell_type": "code",
     "collapsed": false,
     "input": [
      "db.reset_queries()\n",
      "restaraunts = Restaurant.objects.select_related('best_pizza').prefetch_related('best_pizza__toppings')\n",
      "for rest in restaraunts:\n",
      "    best_pizza = rest.best_pizza.name\n",
      "    toppings = rest.best_pizza.toppings.all()\n",
      "    for topping in toppings:\n",
      "        print topping.name\n",
      "print len(db.connection.queries)"
     ],
     "language": "python",
     "metadata": {},
     "outputs": []
    },
    {
     "cell_type": "code",
     "collapsed": false,
     "input": [],
     "language": "python",
     "metadata": {},
     "outputs": []
    }
   ],
   "metadata": {}
  }
 ]
}